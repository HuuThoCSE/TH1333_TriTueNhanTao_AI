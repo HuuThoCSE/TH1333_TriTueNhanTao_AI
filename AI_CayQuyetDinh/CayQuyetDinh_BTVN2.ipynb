{
 "cells": [
  {
   "cell_type": "code",
   "execution_count": 3,
   "metadata": {
    "id": "6uT6Cbk3qiE3"
   },
   "outputs": [],
   "source": [
    "import numpy as np\n",
    "import matplotlib.pyplot as plt # Vẽ biểu đồ\n",
    "import pandas as pd \n",
    "import math\n",
    "import copy"
   ]
  },
  {
   "cell_type": "code",
   "execution_count": 4,
   "metadata": {
    "colab": {
     "base_uri": "https://localhost:8080/"
    },
    "id": "j9KQ_T-Sql6O",
    "outputId": "c067f0c2-735c-403b-aa4e-bf99e43c9919"
   },
   "outputs": [
    {
     "name": "stdout",
     "output_type": "stream",
     "text": [
      "[[20 'Combi' 'High']\n",
      " [18 'Sports' 'High']\n",
      " [40 'Sports' 'High']\n",
      " [50 'Family' 'Low']\n",
      " [35 'Minivan' 'Low']\n",
      " [30 'Combi' 'High']\n",
      " [32 'Family' 'Low']\n",
      " [40 'Combi' 'Low']]\n"
     ]
    }
   ],
   "source": [
    "dataset = pd.read_csv('CayQuyetDinh_BTVN2.csv', encoding = 'utf8')\n",
    "X = dataset.iloc[:, :].values\n",
    "print(X)\n",
    "attribute = ['Age', 'Car Type'] # Tiêu đề của cột"
   ]
  },
  {
   "cell_type": "code",
   "execution_count": 6,
   "metadata": {
    "colab": {
     "base_uri": "https://localhost:8080/"
    },
    "id": "zheJuQITLIXj",
    "outputId": "848b225d-f29d-48b4-de41-b9518a4ab73f"
   },
   "outputs": [
    {
     "name": "stdout",
     "output_type": "stream",
     "text": [
      "Start\n",
      "Age\n",
      "20\n",
      "High\n",
      "18\n",
      "High\n",
      "40\n",
      "Car Type\n",
      "Sports\n",
      "High\n",
      "Combi\n",
      "Low\n",
      "50\n",
      "Low\n",
      "35\n",
      "Low\n",
      "30\n",
      "High\n",
      "32\n",
      "Low\n"
     ]
    }
   ],
   "source": [
    "class Node(object):\n",
    "    def __init__(self):\n",
    "        self.value = None\n",
    "        self.decision = None\n",
    "        self.childs = None\n",
    " \n",
    "def findEntropy(data, rows):\n",
    "    yes = 0\n",
    "    no = 0\n",
    "    ans = -1\n",
    "    idx = len(data[0]) - 1\n",
    "    entropy = 0\n",
    "    for i in rows:\n",
    "        if data[i][idx] == 'High':\n",
    "            yes = yes + 1\n",
    "        else:\n",
    "            no = no + 1\n",
    " \n",
    "    x = yes/(yes+no)\n",
    "    y = no/(yes+no)\n",
    "    if x != 0 and y != 0:\n",
    "        entropy = -1 * (x*math.log2(x) + y*math.log2(y))\n",
    "    if x == 1:\n",
    "        ans = 1\n",
    "    if y == 1:\n",
    "        ans = 0\n",
    "    return entropy, ans\n",
    " \n",
    "def findMaxGain(data, rows, columns):\n",
    "    maxGain = 0\n",
    "    retidx = -1\n",
    "    entropy, ans = findEntropy(data, rows)\n",
    "    if entropy == 0:\n",
    "        \"\"\"if ans == 1:\n",
    "            print(\"Yes\")\n",
    "        else:\n",
    "            print(\"No\")\"\"\"\n",
    "        return maxGain, retidx, ans\n",
    " \n",
    "    for j in columns:\n",
    "        mydict = {}\n",
    "        idx = j\n",
    "        for i in rows:\n",
    "            key = data[i][idx]\n",
    "            if key not in mydict:\n",
    "                mydict[key] = 1\n",
    "            else:\n",
    "                mydict[key] = mydict[key] + 1\n",
    "        gain = entropy\n",
    " \n",
    "        # print(mydict)\n",
    "        for key in mydict:\n",
    "            yes = 0\n",
    "            no = 0\n",
    "            for k in rows:\n",
    "                if data[k][j] == key:\n",
    "                    if data[k][-1] == 'High':\n",
    "                        yes = yes + 1\n",
    "                    else:\n",
    "                        no = no + 1\n",
    "            # print(yes, no)\n",
    "            x = yes/(yes+no)\n",
    "            y = no/(yes+no)\n",
    "            # print(x, y)\n",
    "            if x != 0 and y != 0:\n",
    "                gain += (mydict[key] * (x*math.log2(x) + y*math.log2(y)))/14\n",
    "        # print(gain)\n",
    "        if gain > maxGain:\n",
    "            # print(\"hello\")\n",
    "            maxGain = gain\n",
    "            retidx = j\n",
    " \n",
    "    return maxGain, retidx, ans\n",
    " \n",
    "def buildTree(data, rows, columns):\n",
    " \n",
    "    maxGain, idx, ans = findMaxGain(X, rows, columns)\n",
    "    root = Node()\n",
    "    root.childs = []\n",
    "    # print(maxGain\n",
    "    #\n",
    "    # )\n",
    "    if maxGain == 0:\n",
    "        if ans == 1:\n",
    "            root.value = 'High'\n",
    "        else:\n",
    "            root.value = 'Low'\n",
    "        return root\n",
    " \n",
    "    root.value = attribute[idx]\n",
    "    mydict = {}\n",
    "    for i in rows:\n",
    "        key = data[i][idx]\n",
    "        if key not in mydict:\n",
    "            mydict[key] = 1\n",
    "        else:\n",
    "            mydict[key] += 1\n",
    " \n",
    "    newcolumns = copy.deepcopy(columns)\n",
    "    newcolumns.remove(idx)\n",
    "    for key in mydict:\n",
    "        newrows = []\n",
    "        for i in rows:\n",
    "            if data[i][idx] == key:\n",
    "                newrows.append(i)\n",
    "        # print(newrows)\n",
    "        temp = buildTree(data, newrows, newcolumns)\n",
    "        temp.decision = key\n",
    "        root.childs.append(temp)\n",
    "    return root\n",
    " \n",
    "def traverse(root):\n",
    "    print(root.decision)\n",
    "    print(root.value)\n",
    " \n",
    "    n = len(root.childs)\n",
    "    if n > 0:\n",
    "        for i in range(0, n):\n",
    "            traverse(root.childs[i])\n",
    " \n",
    "def calculate():\n",
    "    rows = [i for i in range(0, 8)]    # { Không được giống thầy\n",
    "    columns = [i for i in range(0, 2)]  # }\n",
    "    root = buildTree(X, rows, columns)\n",
    "    root.decision = 'Start'\n",
    "    traverse(root)\n",
    "\n",
    "calculate()"
   ]
  },
  {
   "cell_type": "code",
   "execution_count": null,
   "metadata": {},
   "outputs": [],
   "source": []
  }
 ],
 "metadata": {
  "colab": {
   "provenance": []
  },
  "kernelspec": {
   "display_name": "Python 3 (ipykernel)",
   "language": "python",
   "name": "python3"
  },
  "language_info": {
   "codemirror_mode": {
    "name": "ipython",
    "version": 3
   },
   "file_extension": ".py",
   "mimetype": "text/x-python",
   "name": "python",
   "nbconvert_exporter": "python",
   "pygments_lexer": "ipython3",
   "version": "3.9.13"
  }
 },
 "nbformat": 4,
 "nbformat_minor": 1
}
