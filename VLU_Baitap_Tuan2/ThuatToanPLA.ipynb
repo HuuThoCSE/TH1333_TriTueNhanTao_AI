{
 "cells": [
  {
   "cell_type": "code",
   "execution_count": 133,
   "id": "c19c478a",
   "metadata": {},
   "outputs": [],
   "source": [
    "import pandas as pd"
   ]
  },
  {
   "cell_type": "code",
   "execution_count": 134,
   "id": "2077c5c5",
   "metadata": {},
   "outputs": [
    {
     "data": {
      "text/html": [
       "<div>\n",
       "<style scoped>\n",
       "    .dataframe tbody tr th:only-of-type {\n",
       "        vertical-align: middle;\n",
       "    }\n",
       "\n",
       "    .dataframe tbody tr th {\n",
       "        vertical-align: top;\n",
       "    }\n",
       "\n",
       "    .dataframe thead th {\n",
       "        text-align: right;\n",
       "    }\n",
       "</style>\n",
       "<table border=\"1\" class=\"dataframe\">\n",
       "  <thead>\n",
       "    <tr style=\"text-align: right;\">\n",
       "      <th></th>\n",
       "      <th>ID</th>\n",
       "      <th>Cột thêm vào (x1)</th>\n",
       "      <th>Độ dài đài hoa (x2)</th>\n",
       "      <th>Độ rộng đài hoa (x3)</th>\n",
       "      <th>Độ dài cánh hoa (x4)</th>\n",
       "      <th>Độ rộng cánh hoa (x5)</th>\n",
       "      <th>Loài (Y)</th>\n",
       "    </tr>\n",
       "  </thead>\n",
       "  <tbody>\n",
       "    <tr>\n",
       "      <th>0</th>\n",
       "      <td>Cây Iris A</td>\n",
       "      <td>1</td>\n",
       "      <td>4.7</td>\n",
       "      <td>3.2</td>\n",
       "      <td>1.3</td>\n",
       "      <td>0.2</td>\n",
       "      <td>-1</td>\n",
       "    </tr>\n",
       "    <tr>\n",
       "      <th>1</th>\n",
       "      <td>Cây Iris B</td>\n",
       "      <td>1</td>\n",
       "      <td>6.1</td>\n",
       "      <td>2.8</td>\n",
       "      <td>4.7</td>\n",
       "      <td>1.2</td>\n",
       "      <td>1</td>\n",
       "    </tr>\n",
       "    <tr>\n",
       "      <th>2</th>\n",
       "      <td>Cây Iris C</td>\n",
       "      <td>1</td>\n",
       "      <td>5.6</td>\n",
       "      <td>3.0</td>\n",
       "      <td>4.1</td>\n",
       "      <td>1.3</td>\n",
       "      <td>1</td>\n",
       "    </tr>\n",
       "    <tr>\n",
       "      <th>3</th>\n",
       "      <td>Cây Iris D</td>\n",
       "      <td>1</td>\n",
       "      <td>5.8</td>\n",
       "      <td>2.7</td>\n",
       "      <td>5.1</td>\n",
       "      <td>1.9</td>\n",
       "      <td>-1</td>\n",
       "    </tr>\n",
       "    <tr>\n",
       "      <th>4</th>\n",
       "      <td>Cây Iris E</td>\n",
       "      <td>1</td>\n",
       "      <td>6.5</td>\n",
       "      <td>3.2</td>\n",
       "      <td>5.1</td>\n",
       "      <td>2.0</td>\n",
       "      <td>-1</td>\n",
       "    </tr>\n",
       "    <tr>\n",
       "      <th>5</th>\n",
       "      <td>Cây Iris Q</td>\n",
       "      <td>1</td>\n",
       "      <td>5.8</td>\n",
       "      <td>2.7</td>\n",
       "      <td>3.9</td>\n",
       "      <td>1.2</td>\n",
       "      <td>???</td>\n",
       "    </tr>\n",
       "  </tbody>\n",
       "</table>\n",
       "</div>"
      ],
      "text/plain": [
       "           ID  Cột thêm vào (x1)  Độ dài đài hoa (x2)  Độ rộng đài hoa (x3)  \\\n",
       "0  Cây Iris A                  1                  4.7                   3.2   \n",
       "1  Cây Iris B                  1                  6.1                   2.8   \n",
       "2  Cây Iris C                  1                  5.6                   3.0   \n",
       "3  Cây Iris D                  1                  5.8                   2.7   \n",
       "4  Cây Iris E                  1                  6.5                   3.2   \n",
       "5  Cây Iris Q                  1                  5.8                   2.7   \n",
       "\n",
       "   Độ dài cánh hoa (x4)  Độ rộng cánh hoa (x5) Loài (Y)  \n",
       "0                   1.3                    0.2       -1  \n",
       "1                   4.7                    1.2        1  \n",
       "2                   4.1                    1.3        1  \n",
       "3                   5.1                    1.9       -1  \n",
       "4                   5.1                    2.0       -1  \n",
       "5                   3.9                    1.2      ???  "
      ]
     },
     "execution_count": 134,
     "metadata": {},
     "output_type": "execute_result"
    }
   ],
   "source": [
    "df = pd.read_csv('Iris.csv', sep=',', encoding='utf-8')\n",
    "df"
   ]
  },
  {
   "cell_type": "code",
   "execution_count": 135,
   "id": "5b178642",
   "metadata": {},
   "outputs": [
    {
     "name": "stdout",
     "output_type": "stream",
     "text": [
      "[1, 0, 1, 0, 1]\n"
     ]
    }
   ],
   "source": [
    "# B1: Khởi tạo trọng số\n",
    "import random\n",
    "W_real = []\n",
    "for i in range(5):\n",
    "    W_real.append(random.randint(0,1))\n",
    "print(W_real)"
   ]
  },
  {
   "cell_type": "code",
   "execution_count": 136,
   "id": "4f7ffd2b",
   "metadata": {},
   "outputs": [
    {
     "data": {
      "text/plain": [
       "array([['Cây Iris A', 1, 4.7, 3.2, 1.3, 0.2, '-1'],\n",
       "       ['Cây Iris B', 1, 6.1, 2.8, 4.7, 1.2, '1'],\n",
       "       ['Cây Iris C', 1, 5.6, 3.0, 4.1, 1.3, '1'],\n",
       "       ['Cây Iris D', 1, 5.8, 2.7, 5.1, 1.9, '-1'],\n",
       "       ['Cây Iris E', 1, 6.5, 3.2, 5.1, 2.0, '-1'],\n",
       "       ['Cây Iris Q', 1, 5.8, 2.7, 3.9, 1.2, '???']], dtype=object)"
      ]
     },
     "execution_count": 136,
     "metadata": {},
     "output_type": "execute_result"
    }
   ],
   "source": [
    "dataset = df.to_numpy()\n",
    "dataset"
   ]
  },
  {
   "cell_type": "code",
   "execution_count": 137,
   "id": "e73bee0b",
   "metadata": {},
   "outputs": [
    {
     "name": "stdout",
     "output_type": "stream",
     "text": [
      "Cây Iris A\n",
      "Chưa đoán đúng. X= 1 \t W [1] = 1 \t kq= 1 \t kq_real=  -1\n",
      "Đoán đúng. \tX= -1 \t W [1] = 0.95 \t kq= -1 \t kq_real=  -1 \n",
      "\n",
      "Cây Iris B\n",
      "Đoán đúng. \tX= 1 \t W [2] = 0 \t kq= 1 \t kq_real=  1 \n",
      "\n",
      "Cây Iris C\n",
      "Đoán đúng. \tX= 1 \t W [3] = 0 \t kq= 1 \t kq_real=  1 \n",
      "\n",
      "Cây Iris D\n",
      "Chưa đoán đúng. X= 1 \t W [4] = 0 \t kq= 1 \t kq_real=  -1\n",
      "Chưa đoán đúng. X= 0 \t W [4] = -0.07 \t kq= 1 \t kq_real=  -1\n",
      "Đoán đúng. \tX= -4 \t W [4] = -0.14 \t kq= -1 \t kq_real=  -1 \n",
      "\n",
      "Cây Iris E\n",
      "Chưa đoán đúng. X= 1 \t W [5] = 1 \t kq= 1 \t kq_real=  -1\n",
      "Đoán đúng. \tX= -2 \t W [5] = 0.99 \t kq= -1 \t kq_real=  -1 \n",
      "\n"
     ]
    }
   ],
   "source": [
    "W_train=[]\n",
    "theta = 0\n",
    "anpha = 0.05\n",
    "for y in range(0, len(dataset)-1):\n",
    "    print(dataset[y,0])\n",
    "    W_real = [1,0,0,0,1]\n",
    "    W = W_real\n",
    "    run=True\n",
    "    kq_real = dataset[y,len(dataset)]\n",
    "    while(run):\n",
    "        X = 0\n",
    "        kq = 0\n",
    "        for i in range(1, len(dataset)-1):\n",
    "            X = round(X+dataset[y,i]*W[i-1])\n",
    "        if X >= theta:\n",
    "            kq = 1\n",
    "        elif X < theta:\n",
    "            kq = -1\n",
    "        if str(kq) == kq_real:\n",
    "            W_train.append(W[y])\n",
    "            print(\"Đoán đúng. \\tX=\",X,\"\\t W\",[y+1],\"=\",W[y], \"\\t kq=\", kq, \"\\t kq_real= \", kq_real, '\\n')\n",
    "            run = False\n",
    "        else:\n",
    "            print(\"Chưa đoán đúng. X=\", X,\"\\t W\",[y+1],\"=\",W[y], \"\\t kq=\", kq, \"\\t kq_real= \", kq_real)\n",
    "            i=0\n",
    "            for i in range(len(dataset)-1):\n",
    "                if str(kq) > kq_real:\n",
    "                    W[i] = round(W[i]-anpha*dataset[0,i+1],2)\n",
    "                else:\n",
    "                    W[i] = round(W[i]+anpha*dataset[0,i+1])\n",
    "                "
   ]
  },
  {
   "cell_type": "code",
   "execution_count": 138,
   "id": "0748f1b4",
   "metadata": {},
   "outputs": [
    {
     "data": {
      "text/plain": [
       "[0.95, 0, 0, -0.14, 0.99]"
      ]
     },
     "execution_count": 138,
     "metadata": {},
     "output_type": "execute_result"
    }
   ],
   "source": [
    "W_train"
   ]
  },
  {
   "cell_type": "code",
   "execution_count": 131,
   "id": "1f8b617a",
   "metadata": {},
   "outputs": [
    {
     "name": "stdout",
     "output_type": "stream",
     "text": [
      "-1\n"
     ]
    }
   ],
   "source": [
    "for i in range(1, 5):\n",
    "    X = X+dataset[5,i]*W_train[i-1]\n",
    "    if X >= theta:\n",
    "        kq = 1\n",
    "    elif X < theta:\n",
    "        kq = -1\n",
    "print(kq)"
   ]
  }
 ],
 "metadata": {
  "kernelspec": {
   "display_name": "Python 3 (ipykernel)",
   "language": "python",
   "name": "python3"
  },
  "language_info": {
   "codemirror_mode": {
    "name": "ipython",
    "version": 3
   },
   "file_extension": ".py",
   "mimetype": "text/x-python",
   "name": "python",
   "nbconvert_exporter": "python",
   "pygments_lexer": "ipython3",
   "version": "3.9.13"
  }
 },
 "nbformat": 4,
 "nbformat_minor": 5
}
